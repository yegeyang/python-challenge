{
 "cells": [
  {
   "cell_type": "code",
   "execution_count": 2,
   "metadata": {},
   "outputs": [],
   "source": [
    "from bs4 import BeautifulSoup\n",
    "import pandas as pd\n",
    "from selenium import webdriver\n",
    "from io import BytesIO\n",
    "from zipfile import ZipFile\n",
    "import urllib.request\n",
    "import os"
   ]
  },
  {
   "cell_type": "code",
   "execution_count": 3,
   "metadata": {},
   "outputs": [],
   "source": [
    "browser = webdriver.Chrome('/usr/local/bin/chromedriver')"
   ]
  },
  {
   "cell_type": "code",
   "execution_count": 4,
   "metadata": {},
   "outputs": [],
   "source": [
    "browser.get('https://s3.amazonaws.com/tripdata/index.html')"
   ]
  },
  {
   "cell_type": "code",
   "execution_count": 5,
   "metadata": {},
   "outputs": [],
   "source": [
    "#get all links\n",
    "all_links = [link.get_attribute('href') for link in browser.find_elements_by_tag_name('a')]"
   ]
  },
  {
   "cell_type": "code",
   "execution_count": 8,
   "metadata": {},
   "outputs": [],
   "source": [
    "# extract necessary links\n",
    "linksJC_17 = [link for link in all_links if 'JC' in link if '2017' in link]\n",
    "linksJC_18 = [link for link in all_links if 'JC' in link if '2018' in link]\n",
    "links_17 = [link for link in all_links if 'JC' not in link if '2017' in link]\n",
    "links_18 = [link for link in all_links if 'JC' not in link if '2018' in link]"
   ]
  },
  {
   "cell_type": "code",
   "execution_count": 10,
   "metadata": {},
   "outputs": [],
   "source": [
    "# function for downloading, unziping and dataframing data from a link\n",
    "def create_df(link):\n",
    "    \n",
    "    url = urllib.request.urlopen(link)\n",
    "    output = open('temporary.zip', 'wb')    \n",
    "    output.write(url.read())\n",
    "    output.close()\n",
    "    dataframe = pd.read_csv('temporary.zip')\n",
    "    \n",
    "    if (len(dataframe.columns) == 15):\n",
    "        dataframe.columns = ['Trip Duration (sec)', 'Start Time', 'Stop Time', 'Start Station ID',\n",
    "       'Start Station Name', 'Start Station Latitude',\n",
    "       'Start Station Longitude', 'End Station ID', 'End Station Name',\n",
    "       'End Station Latitude', 'End Station Longitude', 'Bike ID', 'User Type',\n",
    "       'Birth_Year', 'Gender']\n",
    "    else:\n",
    "        dataframe.columns = ['Trip Duration (sec)', 'Start Time', 'Stop Time', 'Start Station ID',\n",
    "       'Start Station Name', 'Start Station Latitude',\n",
    "       'Start Station Longitude', 'End Station ID', 'End Station Name',\n",
    "       'End Station Latitude', 'End Station Longitude', 'Bike ID',\n",
    "       'Localized Value', 'User Type', 'Birth_Year', 'Gender']\n",
    "        dataframe = dataframe.drop('Localized Value',1)\n",
    "        \n",
    "    print(link)\n",
    "    os.remove('temporary.zip')\n",
    "    \n",
    "    return dataframe"
   ]
  },
  {
   "cell_type": "code",
   "execution_count": 11,
   "metadata": {},
   "outputs": [],
   "source": [
    "# function for cleaning and preparing df\n",
    "def prepare_df(df):\n",
    "    \n",
    "#     drop n/a\n",
    "    df = df.dropna(how='any').reset_index(drop=True)\n",
    "    \n",
    "#     change data types\n",
    "    df['Birth_Year'] = df.Birth_Year.astype(int)\n",
    "    df['Start Time'] = pd.to_datetime(df['Start Time'])\n",
    "    df['Stop Time'] = pd.to_datetime(df['Stop Time'])\n",
    "    \n",
    "#     add Dge column\n",
    "    df['Age'] = 2018 - df['Birth_Year']\n",
    "    \n",
    "#     exclude ages > 90 years\n",
    "    df = df[df['Age'] < 90]\n",
    "    \n",
    "    return df"
   ]
  },
  {
   "cell_type": "code",
   "execution_count": 12,
   "metadata": {},
   "outputs": [],
   "source": [
    "# create empty df\n",
    "ny17 = pd.DataFrame()\n",
    "ny18 = pd.DataFrame()"
   ]
  },
  {
   "cell_type": "code",
   "execution_count": 13,
   "metadata": {},
   "outputs": [
    {
     "name": "stdout",
     "output_type": "stream",
     "text": [
      "https://s3.amazonaws.com/tripdata/201701-citibike-tripdata.csv.zip\n",
      "https://s3.amazonaws.com/tripdata/201702-citibike-tripdata.csv.zip\n",
      "https://s3.amazonaws.com/tripdata/201703-citibike-tripdata.csv.zip\n",
      "https://s3.amazonaws.com/tripdata/201704-citibike-tripdata.csv.zip\n",
      "https://s3.amazonaws.com/tripdata/201705-citibike-tripdata.csv.zip\n",
      "https://s3.amazonaws.com/tripdata/201706-citibike-tripdata.csv.zip\n",
      "https://s3.amazonaws.com/tripdata/201707-citibike-tripdata.csv.zip\n",
      "https://s3.amazonaws.com/tripdata/201708-citibike-tripdata.csv.zip\n",
      "https://s3.amazonaws.com/tripdata/201709-citibike-tripdata.csv.zip\n",
      "https://s3.amazonaws.com/tripdata/201710-citibike-tripdata.csv.zip\n",
      "https://s3.amazonaws.com/tripdata/201711-citibike-tripdata.csv.zip\n",
      "https://s3.amazonaws.com/tripdata/201712-citibike-tripdata.csv.zip\n"
     ]
    }
   ],
   "source": [
    "# append to new df\n",
    "for link in links_17:\n",
    "    temporary_df = create_df(link)\n",
    "    ny17 = ny17.append(temporary_df, ignore_index=True, sort=False)"
   ]
  },
  {
   "cell_type": "code",
   "execution_count": 14,
   "metadata": {},
   "outputs": [
    {
     "name": "stdout",
     "output_type": "stream",
     "text": [
      "https://s3.amazonaws.com/tripdata/201801-citibike-tripdata.csv.zip\n",
      "https://s3.amazonaws.com/tripdata/201802-citibike-tripdata.csv.zip\n",
      "https://s3.amazonaws.com/tripdata/201803-citibike-tripdata.csv.zip\n",
      "https://s3.amazonaws.com/tripdata/201804-citibike-tripdata.csv.zip\n",
      "https://s3.amazonaws.com/tripdata/201805-citibike-tripdata.csv.zip\n",
      "https://s3.amazonaws.com/tripdata/201806-citibike-tripdata.csv.zip\n"
     ]
    }
   ],
   "source": [
    "for link in links_18:\n",
    "    temporary_df = create_df(link)\n",
    "    ny18 = ny18.append(temporary_df, ignore_index=True, sort=False)"
   ]
  },
  {
   "cell_type": "code",
   "execution_count": 15,
   "metadata": {},
   "outputs": [],
   "source": [
    "# clean and prepare df\n",
    "ny17 = prepare_df(ny17)\n",
    "ny18 = prepare_df(ny18)"
   ]
  },
  {
   "cell_type": "code",
   "execution_count": 16,
   "metadata": {},
   "outputs": [
    {
     "data": {
      "text/html": [
       "<div>\n",
       "<style scoped>\n",
       "    .dataframe tbody tr th:only-of-type {\n",
       "        vertical-align: middle;\n",
       "    }\n",
       "\n",
       "    .dataframe tbody tr th {\n",
       "        vertical-align: top;\n",
       "    }\n",
       "\n",
       "    .dataframe thead th {\n",
       "        text-align: right;\n",
       "    }\n",
       "</style>\n",
       "<table border=\"1\" class=\"dataframe\">\n",
       "  <thead>\n",
       "    <tr style=\"text-align: right;\">\n",
       "      <th></th>\n",
       "      <th>Trip Duration (sec)</th>\n",
       "      <th>Start Time</th>\n",
       "      <th>Stop Time</th>\n",
       "      <th>Start Station ID</th>\n",
       "      <th>Start Station Name</th>\n",
       "      <th>Start Station Latitude</th>\n",
       "      <th>Start Station Longitude</th>\n",
       "      <th>End Station ID</th>\n",
       "      <th>End Station Name</th>\n",
       "      <th>End Station Latitude</th>\n",
       "      <th>End Station Longitude</th>\n",
       "      <th>Bike ID</th>\n",
       "      <th>User Type</th>\n",
       "      <th>Birth_Year</th>\n",
       "      <th>Gender</th>\n",
       "      <th>Age</th>\n",
       "    </tr>\n",
       "  </thead>\n",
       "  <tbody>\n",
       "    <tr>\n",
       "      <th>0</th>\n",
       "      <td>680</td>\n",
       "      <td>2017-01-01 00:00:21</td>\n",
       "      <td>2017-01-01 00:11:41</td>\n",
       "      <td>3226</td>\n",
       "      <td>W 82 St &amp; Central Park West</td>\n",
       "      <td>40.782750</td>\n",
       "      <td>-73.971370</td>\n",
       "      <td>3165</td>\n",
       "      <td>Central Park West &amp; W 72 St</td>\n",
       "      <td>40.775794</td>\n",
       "      <td>-73.976206</td>\n",
       "      <td>25542</td>\n",
       "      <td>Subscriber</td>\n",
       "      <td>1965</td>\n",
       "      <td>2</td>\n",
       "      <td>53</td>\n",
       "    </tr>\n",
       "    <tr>\n",
       "      <th>1</th>\n",
       "      <td>1282</td>\n",
       "      <td>2017-01-01 00:00:45</td>\n",
       "      <td>2017-01-01 00:22:08</td>\n",
       "      <td>3263</td>\n",
       "      <td>Cooper Square &amp; E 7 St</td>\n",
       "      <td>40.729236</td>\n",
       "      <td>-73.990868</td>\n",
       "      <td>498</td>\n",
       "      <td>Broadway &amp; W 32 St</td>\n",
       "      <td>40.748549</td>\n",
       "      <td>-73.988084</td>\n",
       "      <td>21136</td>\n",
       "      <td>Subscriber</td>\n",
       "      <td>1987</td>\n",
       "      <td>2</td>\n",
       "      <td>31</td>\n",
       "    </tr>\n",
       "    <tr>\n",
       "      <th>2</th>\n",
       "      <td>666</td>\n",
       "      <td>2017-01-01 00:01:51</td>\n",
       "      <td>2017-01-01 00:12:57</td>\n",
       "      <td>3163</td>\n",
       "      <td>Central Park West &amp; W 68 St</td>\n",
       "      <td>40.773407</td>\n",
       "      <td>-73.977825</td>\n",
       "      <td>3163</td>\n",
       "      <td>Central Park West &amp; W 68 St</td>\n",
       "      <td>40.773407</td>\n",
       "      <td>-73.977825</td>\n",
       "      <td>16050</td>\n",
       "      <td>Subscriber</td>\n",
       "      <td>2000</td>\n",
       "      <td>1</td>\n",
       "      <td>18</td>\n",
       "    </tr>\n",
       "    <tr>\n",
       "      <th>3</th>\n",
       "      <td>559</td>\n",
       "      <td>2017-01-01 00:05:00</td>\n",
       "      <td>2017-01-01 00:14:20</td>\n",
       "      <td>499</td>\n",
       "      <td>Broadway &amp; W 60 St</td>\n",
       "      <td>40.769155</td>\n",
       "      <td>-73.981918</td>\n",
       "      <td>479</td>\n",
       "      <td>9 Ave &amp; W 45 St</td>\n",
       "      <td>40.760193</td>\n",
       "      <td>-73.991255</td>\n",
       "      <td>27294</td>\n",
       "      <td>Subscriber</td>\n",
       "      <td>1973</td>\n",
       "      <td>1</td>\n",
       "      <td>45</td>\n",
       "    </tr>\n",
       "    <tr>\n",
       "      <th>4</th>\n",
       "      <td>826</td>\n",
       "      <td>2017-01-01 00:05:37</td>\n",
       "      <td>2017-01-01 00:19:24</td>\n",
       "      <td>362</td>\n",
       "      <td>Broadway &amp; W 37 St</td>\n",
       "      <td>40.751726</td>\n",
       "      <td>-73.987535</td>\n",
       "      <td>445</td>\n",
       "      <td>E 10 St &amp; Avenue A</td>\n",
       "      <td>40.727408</td>\n",
       "      <td>-73.981420</td>\n",
       "      <td>23288</td>\n",
       "      <td>Subscriber</td>\n",
       "      <td>1977</td>\n",
       "      <td>2</td>\n",
       "      <td>41</td>\n",
       "    </tr>\n",
       "  </tbody>\n",
       "</table>\n",
       "</div>"
      ],
      "text/plain": [
       "   Trip Duration (sec)          Start Time           Stop Time  \\\n",
       "0                  680 2017-01-01 00:00:21 2017-01-01 00:11:41   \n",
       "1                 1282 2017-01-01 00:00:45 2017-01-01 00:22:08   \n",
       "2                  666 2017-01-01 00:01:51 2017-01-01 00:12:57   \n",
       "3                  559 2017-01-01 00:05:00 2017-01-01 00:14:20   \n",
       "4                  826 2017-01-01 00:05:37 2017-01-01 00:19:24   \n",
       "\n",
       "   Start Station ID           Start Station Name  Start Station Latitude  \\\n",
       "0              3226  W 82 St & Central Park West               40.782750   \n",
       "1              3263       Cooper Square & E 7 St               40.729236   \n",
       "2              3163  Central Park West & W 68 St               40.773407   \n",
       "3               499           Broadway & W 60 St               40.769155   \n",
       "4               362           Broadway & W 37 St               40.751726   \n",
       "\n",
       "   Start Station Longitude  End Station ID             End Station Name  \\\n",
       "0               -73.971370            3165  Central Park West & W 72 St   \n",
       "1               -73.990868             498           Broadway & W 32 St   \n",
       "2               -73.977825            3163  Central Park West & W 68 St   \n",
       "3               -73.981918             479              9 Ave & W 45 St   \n",
       "4               -73.987535             445           E 10 St & Avenue A   \n",
       "\n",
       "   End Station Latitude  End Station Longitude  Bike ID   User Type  \\\n",
       "0             40.775794             -73.976206    25542  Subscriber   \n",
       "1             40.748549             -73.988084    21136  Subscriber   \n",
       "2             40.773407             -73.977825    16050  Subscriber   \n",
       "3             40.760193             -73.991255    27294  Subscriber   \n",
       "4             40.727408             -73.981420    23288  Subscriber   \n",
       "\n",
       "   Birth_Year  Gender  Age  \n",
       "0        1965       2   53  \n",
       "1        1987       2   31  \n",
       "2        2000       1   18  \n",
       "3        1973       1   45  \n",
       "4        1977       2   41  "
      ]
     },
     "execution_count": 16,
     "metadata": {},
     "output_type": "execute_result"
    }
   ],
   "source": [
    "ny17.head()"
   ]
  },
  {
   "cell_type": "code",
   "execution_count": 17,
   "metadata": {},
   "outputs": [
    {
     "data": {
      "text/html": [
       "<div>\n",
       "<style scoped>\n",
       "    .dataframe tbody tr th:only-of-type {\n",
       "        vertical-align: middle;\n",
       "    }\n",
       "\n",
       "    .dataframe tbody tr th {\n",
       "        vertical-align: top;\n",
       "    }\n",
       "\n",
       "    .dataframe thead th {\n",
       "        text-align: right;\n",
       "    }\n",
       "</style>\n",
       "<table border=\"1\" class=\"dataframe\">\n",
       "  <thead>\n",
       "    <tr style=\"text-align: right;\">\n",
       "      <th></th>\n",
       "      <th>Trip Duration (sec)</th>\n",
       "      <th>Start Time</th>\n",
       "      <th>Stop Time</th>\n",
       "      <th>Start Station ID</th>\n",
       "      <th>Start Station Name</th>\n",
       "      <th>Start Station Latitude</th>\n",
       "      <th>Start Station Longitude</th>\n",
       "      <th>End Station ID</th>\n",
       "      <th>End Station Name</th>\n",
       "      <th>End Station Latitude</th>\n",
       "      <th>End Station Longitude</th>\n",
       "      <th>Bike ID</th>\n",
       "      <th>User Type</th>\n",
       "      <th>Birth_Year</th>\n",
       "      <th>Gender</th>\n",
       "      <th>Age</th>\n",
       "    </tr>\n",
       "  </thead>\n",
       "  <tbody>\n",
       "    <tr>\n",
       "      <th>0</th>\n",
       "      <td>196</td>\n",
       "      <td>2018-01-01 00:01:51</td>\n",
       "      <td>2018-01-01 00:05:07</td>\n",
       "      <td>315</td>\n",
       "      <td>South St &amp; Gouverneur Ln</td>\n",
       "      <td>40.703554</td>\n",
       "      <td>-74.006702</td>\n",
       "      <td>259</td>\n",
       "      <td>South St &amp; Whitehall St</td>\n",
       "      <td>40.701221</td>\n",
       "      <td>-74.012342</td>\n",
       "      <td>18534</td>\n",
       "      <td>Subscriber</td>\n",
       "      <td>1997</td>\n",
       "      <td>1</td>\n",
       "      <td>21</td>\n",
       "    </tr>\n",
       "    <tr>\n",
       "      <th>1</th>\n",
       "      <td>207</td>\n",
       "      <td>2018-01-01 00:02:44</td>\n",
       "      <td>2018-01-01 00:06:11</td>\n",
       "      <td>3224</td>\n",
       "      <td>W 13 St &amp; Hudson St</td>\n",
       "      <td>40.739974</td>\n",
       "      <td>-74.005139</td>\n",
       "      <td>470</td>\n",
       "      <td>W 20 St &amp; 8 Ave</td>\n",
       "      <td>40.743453</td>\n",
       "      <td>-74.000040</td>\n",
       "      <td>19651</td>\n",
       "      <td>Subscriber</td>\n",
       "      <td>1978</td>\n",
       "      <td>1</td>\n",
       "      <td>40</td>\n",
       "    </tr>\n",
       "    <tr>\n",
       "      <th>2</th>\n",
       "      <td>613</td>\n",
       "      <td>2018-01-01 00:03:15</td>\n",
       "      <td>2018-01-01 00:13:28</td>\n",
       "      <td>386</td>\n",
       "      <td>Centre St &amp; Worth St</td>\n",
       "      <td>40.714948</td>\n",
       "      <td>-74.002345</td>\n",
       "      <td>2008</td>\n",
       "      <td>Little West St &amp; 1 Pl</td>\n",
       "      <td>40.705693</td>\n",
       "      <td>-74.016777</td>\n",
       "      <td>21678</td>\n",
       "      <td>Subscriber</td>\n",
       "      <td>1982</td>\n",
       "      <td>1</td>\n",
       "      <td>36</td>\n",
       "    </tr>\n",
       "    <tr>\n",
       "      <th>3</th>\n",
       "      <td>375</td>\n",
       "      <td>2018-01-01 00:06:44</td>\n",
       "      <td>2018-01-01 00:12:59</td>\n",
       "      <td>466</td>\n",
       "      <td>W 25 St &amp; 6 Ave</td>\n",
       "      <td>40.743954</td>\n",
       "      <td>-73.991449</td>\n",
       "      <td>325</td>\n",
       "      <td>E 19 St &amp; 3 Ave</td>\n",
       "      <td>40.736245</td>\n",
       "      <td>-73.984738</td>\n",
       "      <td>29822</td>\n",
       "      <td>Subscriber</td>\n",
       "      <td>1982</td>\n",
       "      <td>1</td>\n",
       "      <td>36</td>\n",
       "    </tr>\n",
       "    <tr>\n",
       "      <th>4</th>\n",
       "      <td>402</td>\n",
       "      <td>2018-01-01 00:06:57</td>\n",
       "      <td>2018-01-01 00:13:40</td>\n",
       "      <td>438</td>\n",
       "      <td>St Marks Pl &amp; 1 Ave</td>\n",
       "      <td>40.727791</td>\n",
       "      <td>-73.985649</td>\n",
       "      <td>380</td>\n",
       "      <td>W 4 St &amp; 7 Ave S</td>\n",
       "      <td>40.734011</td>\n",
       "      <td>-74.002939</td>\n",
       "      <td>30722</td>\n",
       "      <td>Subscriber</td>\n",
       "      <td>1989</td>\n",
       "      <td>1</td>\n",
       "      <td>29</td>\n",
       "    </tr>\n",
       "  </tbody>\n",
       "</table>\n",
       "</div>"
      ],
      "text/plain": [
       "   Trip Duration (sec)          Start Time           Stop Time  \\\n",
       "0                  196 2018-01-01 00:01:51 2018-01-01 00:05:07   \n",
       "1                  207 2018-01-01 00:02:44 2018-01-01 00:06:11   \n",
       "2                  613 2018-01-01 00:03:15 2018-01-01 00:13:28   \n",
       "3                  375 2018-01-01 00:06:44 2018-01-01 00:12:59   \n",
       "4                  402 2018-01-01 00:06:57 2018-01-01 00:13:40   \n",
       "\n",
       "   Start Station ID        Start Station Name  Start Station Latitude  \\\n",
       "0               315  South St & Gouverneur Ln               40.703554   \n",
       "1              3224       W 13 St & Hudson St               40.739974   \n",
       "2               386      Centre St & Worth St               40.714948   \n",
       "3               466           W 25 St & 6 Ave               40.743954   \n",
       "4               438       St Marks Pl & 1 Ave               40.727791   \n",
       "\n",
       "   Start Station Longitude  End Station ID         End Station Name  \\\n",
       "0               -74.006702             259  South St & Whitehall St   \n",
       "1               -74.005139             470          W 20 St & 8 Ave   \n",
       "2               -74.002345            2008    Little West St & 1 Pl   \n",
       "3               -73.991449             325          E 19 St & 3 Ave   \n",
       "4               -73.985649             380         W 4 St & 7 Ave S   \n",
       "\n",
       "   End Station Latitude  End Station Longitude  Bike ID   User Type  \\\n",
       "0             40.701221             -74.012342    18534  Subscriber   \n",
       "1             40.743453             -74.000040    19651  Subscriber   \n",
       "2             40.705693             -74.016777    21678  Subscriber   \n",
       "3             40.736245             -73.984738    29822  Subscriber   \n",
       "4             40.734011             -74.002939    30722  Subscriber   \n",
       "\n",
       "   Birth_Year  Gender  Age  \n",
       "0        1997       1   21  \n",
       "1        1978       1   40  \n",
       "2        1982       1   36  \n",
       "3        1982       1   36  \n",
       "4        1989       1   29  "
      ]
     },
     "execution_count": 17,
     "metadata": {},
     "output_type": "execute_result"
    }
   ],
   "source": [
    "ny18.head()"
   ]
  },
  {
   "cell_type": "code",
   "execution_count": 18,
   "metadata": {},
   "outputs": [
    {
     "data": {
      "text/plain": [
       "Trip Duration (sec)                 int64\n",
       "Start Time                 datetime64[ns]\n",
       "Stop Time                  datetime64[ns]\n",
       "Start Station ID                    int64\n",
       "Start Station Name                 object\n",
       "Start Station Latitude            float64\n",
       "Start Station Longitude           float64\n",
       "End Station ID                      int64\n",
       "End Station Name                   object\n",
       "End Station Latitude              float64\n",
       "End Station Longitude             float64\n",
       "Bike ID                             int64\n",
       "User Type                          object\n",
       "Birth_Year                          int64\n",
       "Gender                              int64\n",
       "Age                                 int64\n",
       "dtype: object"
      ]
     },
     "execution_count": 18,
     "metadata": {},
     "output_type": "execute_result"
    }
   ],
   "source": [
    "ny17.dtypes"
   ]
  },
  {
   "cell_type": "code",
   "execution_count": 20,
   "metadata": {},
   "outputs": [
    {
     "data": {
      "text/plain": [
       "Trip Duration (sec)                 int64\n",
       "Start Time                 datetime64[ns]\n",
       "Stop Time                  datetime64[ns]\n",
       "Start Station ID                    int64\n",
       "Start Station Name                 object\n",
       "Start Station Latitude            float64\n",
       "Start Station Longitude           float64\n",
       "End Station ID                      int64\n",
       "End Station Name                   object\n",
       "End Station Latitude              float64\n",
       "End Station Longitude             float64\n",
       "Bike ID                             int64\n",
       "User Type                          object\n",
       "Birth_Year                          int64\n",
       "Gender                              int64\n",
       "Age                                 int64\n",
       "dtype: object"
      ]
     },
     "execution_count": 20,
     "metadata": {},
     "output_type": "execute_result"
    }
   ],
   "source": [
    "ny18.dtypes"
   ]
  },
  {
   "cell_type": "code",
   "execution_count": 21,
   "metadata": {},
   "outputs": [],
   "source": [
    "nydf = ny17.append(ny18, ignore_index=True, sort=False)"
   ]
  },
  {
   "cell_type": "code",
   "execution_count": 22,
   "metadata": {},
   "outputs": [
    {
     "data": {
      "text/plain": [
       "Trip Duration (sec)        21902634\n",
       "Start Time                 21902634\n",
       "Stop Time                  21902634\n",
       "Start Station ID           21902634\n",
       "Start Station Name         21902634\n",
       "Start Station Latitude     21902634\n",
       "Start Station Longitude    21902634\n",
       "End Station ID             21902634\n",
       "End Station Name           21902634\n",
       "End Station Latitude       21902634\n",
       "End Station Longitude      21902634\n",
       "Bike ID                    21902634\n",
       "User Type                  21902634\n",
       "Birth_Year                 21902634\n",
       "Gender                     21902634\n",
       "Age                        21902634\n",
       "dtype: int64"
      ]
     },
     "execution_count": 22,
     "metadata": {},
     "output_type": "execute_result"
    }
   ],
   "source": [
    "nydf.count()"
   ]
  },
  {
   "cell_type": "code",
   "execution_count": 23,
   "metadata": {},
   "outputs": [],
   "source": [
    "nydf.to_csv('data/nybike_from_url.csv', encoding='utf-8', index=False)"
   ]
  },
  {
   "cell_type": "code",
   "execution_count": null,
   "metadata": {},
   "outputs": [],
   "source": []
  },
  {
   "cell_type": "code",
   "execution_count": null,
   "metadata": {},
   "outputs": [],
   "source": []
  },
  {
   "cell_type": "code",
   "execution_count": null,
   "metadata": {},
   "outputs": [],
   "source": []
  },
  {
   "cell_type": "code",
   "execution_count": null,
   "metadata": {},
   "outputs": [],
   "source": []
  },
  {
   "cell_type": "code",
   "execution_count": null,
   "metadata": {},
   "outputs": [],
   "source": []
  },
  {
   "cell_type": "code",
   "execution_count": null,
   "metadata": {},
   "outputs": [],
   "source": []
  },
  {
   "cell_type": "code",
   "execution_count": null,
   "metadata": {},
   "outputs": [],
   "source": []
  }
 ],
 "metadata": {
  "kernelspec": {
   "display_name": "Python 3",
   "language": "python",
   "name": "python3"
  },
  "language_info": {
   "codemirror_mode": {
    "name": "ipython",
    "version": 3
   },
   "file_extension": ".py",
   "mimetype": "text/x-python",
   "name": "python",
   "nbconvert_exporter": "python",
   "pygments_lexer": "ipython3",
   "version": "3.6.5"
  }
 },
 "nbformat": 4,
 "nbformat_minor": 2
}
