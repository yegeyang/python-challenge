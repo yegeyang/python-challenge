{
 "cells": [
  {
   "cell_type": "code",
   "execution_count": null,
   "metadata": {},
   "outputs": [],
   "source": [
    "from __future__ import print_function\n",
    "import pandas as pd\n",
    "import numpy as np\n",
    "import matplotlib.pyplot as plt\n",
    "from keras.layers.core import Dense, Activation, Dropout\n",
    "from keras.layers.recurrent import LSTM\n",
    "from keras.models import Sequential"
   ]
  },
  {
   "cell_type": "code",
   "execution_count": 2,
   "metadata": {},
   "outputs": [],
   "source": [
    "def convertSeriesToMatrix(vectorSeries, sequence_length):\n",
    "    matrix=[]\n",
    "    for i in range(len(vectorSeries)-sequence_length+1):\n",
    "        matrix.append(vectorSeries[i:i+sequence_length])\n",
    "    return matrix"
   ]
  },
  {
   "cell_type": "code",
   "execution_count": 3,
   "metadata": {},
   "outputs": [],
   "source": [
    "np.random.seed(1234)"
   ]
  },
  {
   "cell_type": "code",
   "execution_count": 8,
   "metadata": {},
   "outputs": [],
   "source": [
    "# load raw data\n",
    "df_raw = pd.read_csv(\"hourly_load_2016.csv\", header=None)"
   ]
  },
  {
   "cell_type": "code",
   "execution_count": 11,
   "metadata": {},
   "outputs": [],
   "source": [
    "df_raw.head()\n",
    "# numpy array\n",
    "df_raw_array = df_raw.values"
   ]
  },
  {
   "cell_type": "code",
   "execution_count": 12,
   "metadata": {},
   "outputs": [],
   "source": [
    "# daily load\n",
    "list_daily_load = [df_raw_array[i,:] for i in range(0, len(df_raw)) if i % 24 == 0]"
   ]
  },
  {
   "cell_type": "code",
   "execution_count": 13,
   "metadata": {},
   "outputs": [
    {
     "data": {
      "text/plain": [
       "[array(['1/1/2016', 1311693.43], dtype=object),\n",
       " array(['1/2/2016', 1296008.18], dtype=object),\n",
       " array(['1/3/2016', 1346408.94], dtype=object),\n",
       " array(['1/4/2016', 1531778.93], dtype=object),\n",
       " array(['1/5/2016', 1657504.05], dtype=object),\n",
       " array(['1/6/2016', 1580280.3], dtype=object),\n",
       " array(['1/7/2016', 1511573.18], dtype=object),\n",
       " array(['1/8/2016', 1487156.94], dtype=object),\n",
       " array(['1/9/2016', 1473401.73], dtype=object),\n",
       " array(['1/10/2016', 1378044.04], dtype=object),\n",
       " array(['1/11/2016', 1460451.24], dtype=object),\n",
       " array(['1/12/2016', 1546342.39], dtype=object),\n",
       " array(['1/13/2016', 1611857.17], dtype=object),\n",
       " array(['1/14/2016', 1650448.07], dtype=object),\n",
       " array(['1/15/2016', 1559197.35], dtype=object),\n",
       " array(['1/16/2016', 1489451.07], dtype=object),\n",
       " array(['1/17/2016', 1518757.52], dtype=object),\n",
       " array(['1/18/2016', 1551637.97], dtype=object),\n",
       " array(['1/19/2016', 1635562.26], dtype=object),\n",
       " array(['1/20/2016', 1442777.86], dtype=object),\n",
       " array(['1/21/2016', 1421876.37], dtype=object),\n",
       " array(['1/22/2016', 1442787.74], dtype=object),\n",
       " array(['1/23/2016', 1444912.13], dtype=object),\n",
       " array(['1/24/2016', 1447201.18], dtype=object),\n",
       " array(['1/25/2016', 1317487.21], dtype=object),\n",
       " array(['1/26/2016', 1287548.75], dtype=object),\n",
       " array(['1/27/2016', 1305318.54], dtype=object),\n",
       " array(['1/28/2016', 1311751.37], dtype=object),\n",
       " array(['1/29/2016', 1367922.78], dtype=object),\n",
       " array(['1/30/2016', 1437896.87], dtype=object),\n",
       " array(['1/31/2016', 1288675.1], dtype=object),\n",
       " array(['2/1/2016', 1328899.32], dtype=object),\n",
       " array(['2/2/2016', 1411136.56], dtype=object),\n",
       " array(['2/3/2016', 1493934.07], dtype=object),\n",
       " array(['2/4/2016', 1369576.49], dtype=object),\n",
       " array(['2/5/2016', 1446185.23], dtype=object),\n",
       " array(['2/6/2016', 1464558.26], dtype=object),\n",
       " array(['2/7/2016', 1438369.29], dtype=object),\n",
       " array(['2/8/2016', 1369518.83], dtype=object),\n",
       " array(['2/9/2016', 1498360.22], dtype=object),\n",
       " array(['2/10/2016', 1277155.73], dtype=object),\n",
       " array(['2/11/2016', 1364583.26], dtype=object),\n",
       " array(['2/12/2016', 1458015.44], dtype=object),\n",
       " array(['2/13/2016', 1505881.95], dtype=object),\n",
       " array(['2/14/2016', 1613360.8], dtype=object),\n",
       " array(['2/15/2016', 1484802.01], dtype=object),\n",
       " array(['2/16/2016', 1328245.73], dtype=object),\n",
       " array(['2/17/2016', 1313177.9], dtype=object),\n",
       " array(['2/18/2016', 1363091.96], dtype=object),\n",
       " array(['2/19/2016', 1342515.73], dtype=object),\n",
       " array(['2/20/2016', 1241262.7], dtype=object),\n",
       " array(['2/21/2016', 1169788.06], dtype=object),\n",
       " array(['2/22/2016', 1167708.23], dtype=object),\n",
       " array(['2/23/2016', 1231018.93], dtype=object),\n",
       " array(['2/24/2016', 1237103.91], dtype=object),\n",
       " array(['2/25/2016', 1236279.17], dtype=object),\n",
       " array(['2/26/2016', 1339118.62], dtype=object),\n",
       " array(['2/27/2016', 1334169.26], dtype=object),\n",
       " array(['2/28/2016', 1231213.9], dtype=object),\n",
       " array(['2/29/2016', 1091508.9], dtype=object),\n",
       " array(['3/1/2016', 1277433.63], dtype=object),\n",
       " array(['3/2/2016', 1394139.66], dtype=object),\n",
       " array(['3/3/2016', 1335990.9], dtype=object),\n",
       " array(['3/4/2016', 1343582.32], dtype=object),\n",
       " array(['3/5/2016', 1287275.37], dtype=object),\n",
       " array(['3/6/2016', 1272913.96], dtype=object),\n",
       " array(['3/7/2016', 1189416.76], dtype=object),\n",
       " array(['3/8/2016', 1132820.0], dtype=object),\n",
       " array(['3/9/2016', 1121161.8], dtype=object),\n",
       " array(['3/10/2016', 1043695.14], dtype=object),\n",
       " array(['3/11/2016', 1124336.81], dtype=object),\n",
       " array(['3/12/2016', 1155256.71], dtype=object),\n",
       " array(['3/13/2016', 1074362.51], dtype=object),\n",
       " array(['3/14/2016', 1032063.68], dtype=object),\n",
       " array(['3/15/2016', 1034718.12], dtype=object),\n",
       " array(['3/16/2016', 1032802.41], dtype=object),\n",
       " array(['3/17/2016', 1023778.74], dtype=object),\n",
       " array(['3/18/2016', 1058525.93], dtype=object),\n",
       " array(['3/19/2016', 1128355.0], dtype=object),\n",
       " array(['3/20/2016', 1133424.38], dtype=object),\n",
       " array(['3/21/2016', 1089231.29], dtype=object),\n",
       " array(['3/22/2016', 1109592.44], dtype=object),\n",
       " array(['3/23/2016', 1083692.77], dtype=object),\n",
       " array(['3/24/2016', 1223539.78], dtype=object),\n",
       " array(['3/25/2016', 1176146.52], dtype=object),\n",
       " array(['3/26/2016', 1151045.22], dtype=object),\n",
       " array(['3/27/2016', 1113445.21], dtype=object),\n",
       " array(['3/28/2016', 998504.14], dtype=object),\n",
       " array(['3/29/2016', 1062714.67], dtype=object),\n",
       " array(['3/30/2016', 1059242.1], dtype=object),\n",
       " array(['3/31/2016', 1004903.3], dtype=object),\n",
       " array(['4/1/2016', 982017.93], dtype=object),\n",
       " array(['4/2/2016', 1044374.14], dtype=object),\n",
       " array(['4/3/2016', 1127623.87], dtype=object),\n",
       " array(['4/4/2016', 1169742.09], dtype=object),\n",
       " array(['4/5/2016', 1180341.65], dtype=object),\n",
       " array(['4/6/2016', 1153406.09], dtype=object),\n",
       " array(['4/7/2016', 1129026.05], dtype=object),\n",
       " array(['4/8/2016', 1130984.55], dtype=object),\n",
       " array(['4/9/2016', 1177181.71], dtype=object),\n",
       " array(['4/10/2016', 1216073.62], dtype=object),\n",
       " array(['4/11/2016', 1167656.44], dtype=object),\n",
       " array(['4/12/2016', 942571.57], dtype=object),\n",
       " array(['4/13/2016', 1090025.73], dtype=object),\n",
       " array(['4/14/2016', 1068513.85], dtype=object),\n",
       " array(['4/15/2016', 1037118.19], dtype=object),\n",
       " array(['4/16/2016', 1002456.81], dtype=object),\n",
       " array(['4/17/2016', 969590.2], dtype=object),\n",
       " array(['4/18/2016', 903273.5], dtype=object),\n",
       " array(['4/19/2016', 902726.67], dtype=object),\n",
       " array(['4/20/2016', 918707.96], dtype=object),\n",
       " array(['4/21/2016', 929772.25], dtype=object),\n",
       " array(['4/22/2016', 924339.57], dtype=object),\n",
       " array(['4/23/2016', 950105.72], dtype=object),\n",
       " array(['4/24/2016', 966557.82], dtype=object),\n",
       " array(['4/25/2016', 917952.18], dtype=object),\n",
       " array(['4/26/2016', 993143.72], dtype=object),\n",
       " array(['4/27/2016', 1020808.94], dtype=object),\n",
       " array(['4/28/2016', 991229.79], dtype=object),\n",
       " array(['4/29/2016', 988877.24], dtype=object),\n",
       " array(['4/30/2016', 996762.99], dtype=object),\n",
       " array(['5/1/2016', 957214.45], dtype=object),\n",
       " array(['5/2/2016', 950744.39], dtype=object),\n",
       " array(['5/3/2016', 950873.2], dtype=object),\n",
       " array(['5/4/2016', 934517.07], dtype=object),\n",
       " array(['5/5/2016', 923502.42], dtype=object),\n",
       " array(['5/6/2016', 920543.92], dtype=object),\n",
       " array(['5/7/2016', 920831.8], dtype=object),\n",
       " array(['5/8/2016', 925105.64], dtype=object),\n",
       " array(['5/9/2016', 908066.02], dtype=object),\n",
       " array(['5/10/2016', 918953.67], dtype=object),\n",
       " array(['5/11/2016', 914164.13], dtype=object),\n",
       " array(['5/12/2016', 910252.13], dtype=object),\n",
       " array(['5/13/2016', 909692.0], dtype=object),\n",
       " array(['5/14/2016', 928989.54], dtype=object),\n",
       " array(['5/15/2016', 964620.47], dtype=object),\n",
       " array(['5/16/2016', 965702.95], dtype=object),\n",
       " array(['5/17/2016', 930164.27], dtype=object),\n",
       " array(['5/18/2016', 919378.97], dtype=object),\n",
       " array(['5/19/2016', 907533.29], dtype=object),\n",
       " array(['5/20/2016', 909484.99], dtype=object),\n",
       " array(['5/21/2016', 919666.97], dtype=object),\n",
       " array(['5/22/2016', 910783.98], dtype=object),\n",
       " array(['5/23/2016', 898482.95], dtype=object),\n",
       " array(['5/24/2016', 927981.71], dtype=object),\n",
       " array(['5/25/2016', 1044418.3], dtype=object),\n",
       " array(['5/26/2016', 1157730.75], dtype=object),\n",
       " array(['5/27/2016', 1053845.72], dtype=object),\n",
       " array(['5/28/2016', 1269312.9], dtype=object),\n",
       " array(['5/29/2016', 1357133.72], dtype=object),\n",
       " array(['5/30/2016', 1253577.49], dtype=object),\n",
       " array(['5/31/2016', 1168155.74], dtype=object),\n",
       " array(['6/1/2016', 1038834.28], dtype=object),\n",
       " array(['6/2/2016', 980027.39], dtype=object),\n",
       " array(['6/3/2016', 1106210.43], dtype=object),\n",
       " array(['6/4/2016', 1093196.35], dtype=object),\n",
       " array(['6/5/2016', 1103714.27], dtype=object),\n",
       " array(['6/6/2016', 996875.23], dtype=object),\n",
       " array(['6/7/2016', 983458.64], dtype=object),\n",
       " array(['6/8/2016', 915757.07], dtype=object),\n",
       " array(['6/9/2016', 909681.93], dtype=object),\n",
       " array(['6/10/2016', 918253.35], dtype=object),\n",
       " array(['6/11/2016', 971138.96], dtype=object),\n",
       " array(['6/12/2016', 1173544.42], dtype=object),\n",
       " array(['6/13/2016', 937252.89], dtype=object),\n",
       " array(['6/14/2016', 920370.85], dtype=object),\n",
       " array(['6/15/2016', 936632.32], dtype=object),\n",
       " array(['6/16/2016', 974643.41], dtype=object),\n",
       " array(['6/17/2016', 1060280.21], dtype=object),\n",
       " array(['6/18/2016', 1227052.7], dtype=object),\n",
       " array(['6/19/2016', 1295448.74], dtype=object),\n",
       " array(['6/20/2016', 1414409.39], dtype=object),\n",
       " array(['6/21/2016', 1296589.08], dtype=object),\n",
       " array(['6/22/2016', 1125052.49], dtype=object),\n",
       " array(['6/23/2016', 1064079.08], dtype=object),\n",
       " array(['6/24/2016', 1059376.68], dtype=object),\n",
       " array(['6/25/2016', 1138855.02], dtype=object),\n",
       " array(['6/26/2016', 1195289.05], dtype=object),\n",
       " array(['6/27/2016', 1406115.55], dtype=object),\n",
       " array(['6/28/2016', 1369266.68], dtype=object),\n",
       " array(['6/29/2016', 1020934.82], dtype=object),\n",
       " array(['6/30/2016', 1051807.54], dtype=object),\n",
       " array(['7/1/2016', 1093000.8], dtype=object),\n",
       " array(['7/2/2016', 945537.18], dtype=object),\n",
       " array(['7/3/2016', 1003745.79], dtype=object),\n",
       " array(['7/4/2016', 1086349.33], dtype=object),\n",
       " array(['7/5/2016', 1182294.01], dtype=object),\n",
       " array(['7/6/2016', 1398092.02], dtype=object),\n",
       " array(['7/7/2016', 1553412.09], dtype=object),\n",
       " array(['7/8/2016', 1490291.69], dtype=object),\n",
       " array(['7/9/2016', 1358348.94], dtype=object),\n",
       " array(['7/10/2016', 1186636.26], dtype=object),\n",
       " array(['7/11/2016', 1193785.51], dtype=object),\n",
       " array(['7/12/2016', 1152702.75], dtype=object),\n",
       " array(['7/13/2016', 1451842.88], dtype=object),\n",
       " array(['7/14/2016', 1583220.05], dtype=object),\n",
       " array(['7/15/2016', 1338273.82], dtype=object),\n",
       " array(['7/16/2016', 1102090.89], dtype=object),\n",
       " array(['7/17/2016', 1043995.17], dtype=object),\n",
       " array(['7/18/2016', 1140058.77], dtype=object),\n",
       " array(['7/19/2016', 1166298.49], dtype=object),\n",
       " array(['7/20/2016', 1075865.51], dtype=object),\n",
       " array(['7/21/2016', 1202005.27], dtype=object),\n",
       " array(['7/22/2016', 1565566.19], dtype=object),\n",
       " array(['7/23/2016', 1620780.31], dtype=object),\n",
       " array(['7/24/2016', 1516935.38], dtype=object),\n",
       " array(['7/25/2016', 1327643.25], dtype=object),\n",
       " array(['7/26/2016', 1371725.74], dtype=object),\n",
       " array(['7/27/2016', 1349382.3], dtype=object),\n",
       " array(['7/28/2016', 1428829.1], dtype=object),\n",
       " array(['7/29/2016', 1389466.16], dtype=object),\n",
       " array(['7/30/2016', 1249071.99], dtype=object),\n",
       " array(['7/31/2016', 1179070.25], dtype=object)]"
      ]
     },
     "execution_count": 13,
     "metadata": {},
     "output_type": "execute_result"
    }
   ],
   "source": [
    "list_daily_load"
   ]
  },
  {
   "cell_type": "code",
   "execution_count": 14,
   "metadata": {},
   "outputs": [],
   "source": [
    "# hourly load (23 loads for each day)\n",
    "list_hourly_load = [df_raw_array[i,1]/100000 for i in range(0, len(df_raw)) if i % 24 != 0]"
   ]
  },
  {
   "cell_type": "code",
   "execution_count": 15,
   "metadata": {},
   "outputs": [],
   "source": [
    "# the length of the sequnce for predicting the future value\n",
    "sequence_length = 23"
   ]
  },
  {
   "cell_type": "code",
   "execution_count": 16,
   "metadata": {},
   "outputs": [],
   "source": [
    "# convert the vector to a 2D matrix\n",
    "matrix_load = convertSeriesToMatrix(list_hourly_load, sequence_length)"
   ]
  },
  {
   "cell_type": "code",
   "execution_count": 17,
   "metadata": {},
   "outputs": [
    {
     "name": "stdout",
     "output_type": "stream",
     "text": [
      "Data  shape:  (4877, 23)\n"
     ]
    }
   ],
   "source": [
    "# shift all data by mean\n",
    "matrix_load = np.array(matrix_load)\n",
    "shifted_value = matrix_load.mean()\n",
    "matrix_load -= shifted_value\n",
    "print (\"Data  shape: \", matrix_load.shape)"
   ]
  },
  {
   "cell_type": "code",
   "execution_count": 19,
   "metadata": {},
   "outputs": [],
   "source": [
    "# split dataset: 90% for training and 10% for testing\n",
    "train_row = int(round(0.9 * matrix_load.shape[0]))\n",
    "train_set = matrix_load[:train_row, :]"
   ]
  },
  {
   "cell_type": "code",
   "execution_count": 20,
   "metadata": {},
   "outputs": [],
   "source": [
    "# shuffle the training set (but do not shuffle the test set)\n",
    "np.random.shuffle(train_set)\n",
    "# the training set\n",
    "X_train = train_set[:, :-1]"
   ]
  },
  {
   "cell_type": "code",
   "execution_count": 21,
   "metadata": {},
   "outputs": [],
   "source": [
    "# the last column is the true value to compute the mean-squared-error loss\n",
    "y_train = train_set[:, -1] \n",
    "# the test set\n",
    "X_test = matrix_load[train_row:, :-1]\n",
    "y_test = matrix_load[train_row:, -1]"
   ]
  },
  {
   "cell_type": "code",
   "execution_count": 22,
   "metadata": {},
   "outputs": [],
   "source": [
    "# the input to LSTM layer needs to have the shape of (number of samples, the dimension of each element)\n",
    "X_train = np.reshape(X_train, (X_train.shape[0], X_train.shape[1], 1))\n",
    "X_test = np.reshape(X_test, (X_test.shape[0], X_test.shape[1], 1))\n"
   ]
  },
  {
   "cell_type": "code",
   "execution_count": 23,
   "metadata": {},
   "outputs": [
    {
     "name": "stderr",
     "output_type": "stream",
     "text": [
      "WARNING: Logging before flag parsing goes to stderr.\n",
      "W0711 10:09:37.580893 22232 deprecation_wrapper.py:119] From C:\\Anaconda3\\lib\\site-packages\\keras\\backend\\tensorflow_backend.py:74: The name tf.get_default_graph is deprecated. Please use tf.compat.v1.get_default_graph instead.\n",
      "\n"
     ]
    }
   ],
   "source": [
    "# build the model\n",
    "model = Sequential()"
   ]
  },
  {
   "cell_type": "code",
   "execution_count": 24,
   "metadata": {},
   "outputs": [
    {
     "name": "stderr",
     "output_type": "stream",
     "text": [
      "C:\\Anaconda3\\lib\\site-packages\\ipykernel_launcher.py:2: UserWarning: The `input_dim` and `input_length` arguments in recurrent layers are deprecated. Use `input_shape` instead.\n",
      "  \n",
      "C:\\Anaconda3\\lib\\site-packages\\ipykernel_launcher.py:2: UserWarning: Update your `LSTM` call to the Keras 2 API: `LSTM(return_sequences=True, input_shape=(None, 1), units=50)`\n",
      "  \n",
      "W0711 10:10:01.754793 22232 deprecation_wrapper.py:119] From C:\\Anaconda3\\lib\\site-packages\\keras\\backend\\tensorflow_backend.py:517: The name tf.placeholder is deprecated. Please use tf.compat.v1.placeholder instead.\n",
      "\n",
      "W0711 10:10:01.809003 22232 deprecation_wrapper.py:119] From C:\\Anaconda3\\lib\\site-packages\\keras\\backend\\tensorflow_backend.py:4138: The name tf.random_uniform is deprecated. Please use tf.random.uniform instead.\n",
      "\n",
      "W0711 10:10:02.426970 22232 deprecation_wrapper.py:119] From C:\\Anaconda3\\lib\\site-packages\\keras\\backend\\tensorflow_backend.py:133: The name tf.placeholder_with_default is deprecated. Please use tf.compat.v1.placeholder_with_default instead.\n",
      "\n",
      "W0711 10:10:02.441919 22232 deprecation.py:506] From C:\\Anaconda3\\lib\\site-packages\\keras\\backend\\tensorflow_backend.py:3445: calling dropout (from tensorflow.python.ops.nn_ops) with keep_prob is deprecated and will be removed in a future version.\n",
      "Instructions for updating:\n",
      "Please use `rate` instead of `keep_prob`. Rate should be set to `rate = 1 - keep_prob`.\n"
     ]
    }
   ],
   "source": [
    "# layer 1: LSTM\n",
    "model.add(LSTM( input_dim=1, output_dim=50, return_sequences=True))\n",
    "model.add(Dropout(0.2))"
   ]
  },
  {
   "cell_type": "code",
   "execution_count": 25,
   "metadata": {},
   "outputs": [
    {
     "name": "stderr",
     "output_type": "stream",
     "text": [
      "C:\\Anaconda3\\lib\\site-packages\\ipykernel_launcher.py:2: UserWarning: Update your `LSTM` call to the Keras 2 API: `LSTM(return_sequences=False, units=100)`\n",
      "  \n"
     ]
    }
   ],
   "source": [
    "# layer 2: LSTM\n",
    "model.add(LSTM(output_dim=100, return_sequences=False))\n",
    "model.add(Dropout(0.2))"
   ]
  },
  {
   "cell_type": "code",
   "execution_count": 26,
   "metadata": {},
   "outputs": [
    {
     "name": "stderr",
     "output_type": "stream",
     "text": [
      "C:\\Anaconda3\\lib\\site-packages\\ipykernel_launcher.py:3: UserWarning: Update your `Dense` call to the Keras 2 API: `Dense(activation=\"linear\", units=1)`\n",
      "  This is separate from the ipykernel package so we can avoid doing imports until\n"
     ]
    }
   ],
   "source": [
    "# layer 3: dense\n",
    "# linear activation: a(x) = x\n",
    "model.add(Dense(output_dim=1, activation='linear'))"
   ]
  },
  {
   "cell_type": "code",
   "execution_count": 27,
   "metadata": {},
   "outputs": [
    {
     "name": "stderr",
     "output_type": "stream",
     "text": [
      "W0711 10:10:44.702708 22232 deprecation_wrapper.py:119] From C:\\Anaconda3\\lib\\site-packages\\keras\\optimizers.py:790: The name tf.train.Optimizer is deprecated. Please use tf.compat.v1.train.Optimizer instead.\n",
      "\n"
     ]
    }
   ],
   "source": [
    "# compile the model\n",
    "model.compile(loss=\"mse\", optimizer=\"rmsprop\")"
   ]
  },
  {
   "cell_type": "code",
   "execution_count": 28,
   "metadata": {},
   "outputs": [
    {
     "name": "stderr",
     "output_type": "stream",
     "text": [
      "C:\\Anaconda3\\lib\\site-packages\\ipykernel_launcher.py:2: UserWarning: The `nb_epoch` argument in `fit` has been renamed `epochs`.\n",
      "  \n",
      "W0711 10:10:57.333439 22232 deprecation.py:323] From C:\\Anaconda3\\lib\\site-packages\\tensorflow\\python\\ops\\math_grad.py:1250: add_dispatch_support.<locals>.wrapper (from tensorflow.python.ops.array_ops) is deprecated and will be removed in a future version.\n",
      "Instructions for updating:\n",
      "Use tf.where in 2.0, which has the same broadcast rule as np.where\n",
      "W0711 10:11:00.498675 22232 deprecation_wrapper.py:119] From C:\\Anaconda3\\lib\\site-packages\\keras\\backend\\tensorflow_backend.py:986: The name tf.assign_add is deprecated. Please use tf.compat.v1.assign_add instead.\n",
      "\n"
     ]
    },
    {
     "name": "stdout",
     "output_type": "stream",
     "text": [
      "Train on 4169 samples, validate on 220 samples\n",
      "Epoch 1/50\n",
      "4169/4169 [==============================] - 8s 2ms/step - loss: 7.4487 - val_loss: 5.5209\n",
      "Epoch 2/50\n",
      "4169/4169 [==============================] - 3s 711us/step - loss: 5.0435 - val_loss: 3.7022\n",
      "Epoch 3/50\n",
      "4169/4169 [==============================] - 3s 614us/step - loss: 3.8023 - val_loss: 3.1621\n",
      "Epoch 4/50\n",
      "4169/4169 [==============================] - 3s 667us/step - loss: 2.9441 - val_loss: 2.0857\n",
      "Epoch 5/50\n",
      "4169/4169 [==============================] - 3s 816us/step - loss: 2.4368 - val_loss: 1.7791\n",
      "Epoch 6/50\n",
      "4169/4169 [==============================] - 3s 811us/step - loss: 1.9393 - val_loss: 1.3472\n",
      "Epoch 7/50\n",
      "4169/4169 [==============================] - 3s 729us/step - loss: 1.5062 - val_loss: 1.6458\n",
      "Epoch 8/50\n",
      "4169/4169 [==============================] - 3s 816us/step - loss: 1.3239 - val_loss: 1.0113\n",
      "Epoch 9/50\n",
      "4169/4169 [==============================] - 3s 780us/step - loss: 1.1703 - val_loss: 0.8360\n",
      "Epoch 10/50\n",
      "4169/4169 [==============================] - 2s 494us/step - loss: 1.0235 - val_loss: 0.8112\n",
      "Epoch 11/50\n",
      "4169/4169 [==============================] - 2s 446us/step - loss: 0.8239 - val_loss: 0.9109\n",
      "Epoch 12/50\n",
      "4169/4169 [==============================] - 2s 456us/step - loss: 0.8221 - val_loss: 0.6479\n",
      "Epoch 13/50\n",
      "4169/4169 [==============================] - 2s 428us/step - loss: 0.7310 - val_loss: 0.5400\n",
      "Epoch 14/50\n",
      "4169/4169 [==============================] - 2s 451us/step - loss: 0.6921 - val_loss: 0.4456\n",
      "Epoch 15/50\n",
      "4169/4169 [==============================] - 2s 439us/step - loss: 0.5816 - val_loss: 0.5953\n",
      "Epoch 16/50\n",
      "4169/4169 [==============================] - 2s 475us/step - loss: 0.5512 - val_loss: 0.4695\n",
      "Epoch 17/50\n",
      "4169/4169 [==============================] - 2s 490us/step - loss: 0.5351 - val_loss: 0.3147\n",
      "Epoch 18/50\n",
      "4169/4169 [==============================] - 2s 449us/step - loss: 0.4986 - val_loss: 0.2913\n",
      "Epoch 19/50\n",
      "4169/4169 [==============================] - 2s 440us/step - loss: 0.4509 - val_loss: 0.2416\n",
      "Epoch 20/50\n",
      "4169/4169 [==============================] - 2s 465us/step - loss: 0.5132 - val_loss: 0.4315\n",
      "Epoch 21/50\n",
      "4169/4169 [==============================] - 2s 460us/step - loss: 0.4115 - val_loss: 0.2920\n",
      "Epoch 22/50\n",
      "4169/4169 [==============================] - 2s 423us/step - loss: 0.4416 - val_loss: 0.3531\n",
      "Epoch 23/50\n",
      "4169/4169 [==============================] - 2s 459us/step - loss: 0.3978 - val_loss: 0.2994\n",
      "Epoch 24/50\n",
      "4169/4169 [==============================] - 2s 484us/step - loss: 0.4055 - val_loss: 0.3327\n",
      "Epoch 25/50\n",
      "4169/4169 [==============================] - 2s 427us/step - loss: 0.3693 - val_loss: 0.4027\n",
      "Epoch 26/50\n",
      "4169/4169 [==============================] - 2s 477us/step - loss: 0.3804 - val_loss: 0.1661\n",
      "Epoch 27/50\n",
      "4169/4169 [==============================] - 2s 438us/step - loss: 0.3693 - val_loss: 0.1985\n",
      "Epoch 28/50\n",
      "4169/4169 [==============================] - 2s 440us/step - loss: 0.3395 - val_loss: 0.3250\n",
      "Epoch 29/50\n",
      "4169/4169 [==============================] - 2s 443us/step - loss: 0.3296 - val_loss: 0.2774\n",
      "Epoch 30/50\n",
      "4169/4169 [==============================] - 2s 439us/step - loss: 0.3408 - val_loss: 0.1930\n",
      "Epoch 31/50\n",
      "4169/4169 [==============================] - 2s 413us/step - loss: 0.3289 - val_loss: 0.1529\n",
      "Epoch 32/50\n",
      "4169/4169 [==============================] - 2s 423us/step - loss: 0.3065 - val_loss: 0.1319\n",
      "Epoch 33/50\n",
      "4169/4169 [==============================] - 2s 479us/step - loss: 0.2981 - val_loss: 0.1775\n",
      "Epoch 34/50\n",
      "4169/4169 [==============================] - 2s 436us/step - loss: 0.3157 - val_loss: 0.1484\n",
      "Epoch 35/50\n",
      "4169/4169 [==============================] - 2s 422us/step - loss: 0.3022 - val_loss: 0.1711\n",
      "Epoch 36/50\n",
      "4169/4169 [==============================] - 2s 423us/step - loss: 0.2985 - val_loss: 0.1215\n",
      "Epoch 37/50\n",
      "4169/4169 [==============================] - 2s 529us/step - loss: 0.2734 - val_loss: 0.2416\n",
      "Epoch 38/50\n",
      "4169/4169 [==============================] - 2s 443us/step - loss: 0.2921 - val_loss: 0.1745\n",
      "Epoch 39/50\n",
      "4169/4169 [==============================] - 2s 408us/step - loss: 0.2890 - val_loss: 0.1349\n",
      "Epoch 40/50\n",
      "4169/4169 [==============================] - 2s 490us/step - loss: 0.2642 - val_loss: 0.1541\n",
      "Epoch 41/50\n",
      "4169/4169 [==============================] - 2s 472us/step - loss: 0.2629 - val_loss: 0.2349\n",
      "Epoch 42/50\n",
      "4169/4169 [==============================] - 2s 427us/step - loss: 0.2749 - val_loss: 0.1374\n",
      "Epoch 43/50\n",
      "4169/4169 [==============================] - 2s 404us/step - loss: 0.2621 - val_loss: 0.1444\n",
      "Epoch 44/50\n",
      "4169/4169 [==============================] - 2s 413us/step - loss: 0.2610 - val_loss: 0.1628\n",
      "Epoch 45/50\n",
      "4169/4169 [==============================] - 2s 533us/step - loss: 0.2679 - val_loss: 0.2043\n",
      "Epoch 46/50\n",
      "4169/4169 [==============================] - 2s 476us/step - loss: 0.2596 - val_loss: 0.1199\n",
      "Epoch 47/50\n",
      "4169/4169 [==============================] - 2s 452us/step - loss: 0.2438 - val_loss: 0.1686\n",
      "Epoch 48/50\n",
      "4169/4169 [==============================] - 2s 470us/step - loss: 0.2528 - val_loss: 0.2129\n",
      "Epoch 49/50\n",
      "4169/4169 [==============================] - 2s 442us/step - loss: 0.2389 - val_loss: 0.1544\n",
      "Epoch 50/50\n",
      "4169/4169 [==============================] - 2s 452us/step - loss: 0.2437 - val_loss: 0.1464\n"
     ]
    },
    {
     "data": {
      "text/plain": [
       "<keras.callbacks.History at 0x27037d36ba8>"
      ]
     },
     "execution_count": 28,
     "metadata": {},
     "output_type": "execute_result"
    }
   ],
   "source": [
    "# train the model\n",
    "model.fit(X_train, y_train, batch_size=512, nb_epoch=50, validation_split=0.05, verbose=1)\n"
   ]
  },
  {
   "cell_type": "code",
   "execution_count": 29,
   "metadata": {},
   "outputs": [
    {
     "name": "stdout",
     "output_type": "stream",
     "text": [
      "488/488 [==============================] - 0s 251us/step\n",
      "\n",
      "The mean squared error (MSE) on the test data set is 0.313 over 488 test samples.\n"
     ]
    }
   ],
   "source": [
    "# evaluate the result\n",
    "test_mse = model.evaluate(X_test, y_test, verbose=1)\n",
    "print ('\\nThe mean squared error (MSE) on the test data set is %.3f over %d test samples.' % (test_mse, len(y_test)))"
   ]
  },
  {
   "cell_type": "code",
   "execution_count": 30,
   "metadata": {},
   "outputs": [],
   "source": [
    "# get the predicted values\n",
    "predicted_values = model.predict(X_test)\n",
    "num_test_samples = len(predicted_values)\n",
    "predicted_values = np.reshape(predicted_values, (num_test_samples,1))"
   ]
  },
  {
   "cell_type": "code",
   "execution_count": 31,
   "metadata": {},
   "outputs": [
    {
     "data": {
      "image/png": "[encoded data removed]",
      "text/plain": [
       "<Figure size 432x288 with 1 Axes>"
      ]
     },
     "metadata": {
      "needs_background": "light"
     },
     "output_type": "display_data"
    }
   ],
   "source": [
    "# plot the results\n",
    "fig = plt.figure()\n",
    "plt.plot(y_test + shifted_value)\n",
    "plt.plot(predicted_values + shifted_value)\n",
    "plt.xlabel('Hour')\n",
    "plt.ylabel('Electricity load (*1e5)')\n",
    "plt.show()\n",
    "fig.savefig('output_load_forecasting.jpg', bbox_inches='tight')"
   ]
  },
  {
   "cell_type": "code",
   "execution_count": 33,
   "metadata": {},
   "outputs": [
    {
     "ename": "ValueError",
     "evalue": "all the input array dimensions except for the concatenation axis must match exactly",
     "output_type": "error",
     "traceback": [
      "\u001b[1;31m---------------------------------------------------------------------------\u001b[0m",
      "\u001b[1;31mValueError\u001b[0m                                Traceback (most recent call last)",
      "\u001b[1;32m<ipython-input-33-8ca81cc6bfc1>\u001b[0m in \u001b[0;36m<module>\u001b[1;34m\u001b[0m\n\u001b[0;32m      1\u001b[0m \u001b[1;31m# save the result into txt file\u001b[0m\u001b[1;33m\u001b[0m\u001b[1;33m\u001b[0m\u001b[1;33m\u001b[0m\u001b[0m\n\u001b[1;32m----> 2\u001b[1;33m \u001b[0mtest_result\u001b[0m \u001b[1;33m=\u001b[0m \u001b[0mnp\u001b[0m\u001b[1;33m.\u001b[0m\u001b[0mvstack\u001b[0m\u001b[1;33m(\u001b[0m\u001b[1;33m(\u001b[0m\u001b[0mpredicted_values\u001b[0m\u001b[1;33m,\u001b[0m \u001b[0my_test\u001b[0m\u001b[1;33m)\u001b[0m\u001b[1;33m)\u001b[0m \u001b[1;33m+\u001b[0m \u001b[0mshifted_value\u001b[0m\u001b[1;33m\u001b[0m\u001b[1;33m\u001b[0m\u001b[0m\n\u001b[0m",
      "\u001b[1;32mC:\\Anaconda3\\lib\\site-packages\\numpy\\core\\shape_base.py\u001b[0m in \u001b[0;36mvstack\u001b[1;34m(tup)\u001b[0m\n\u001b[0;32m    281\u001b[0m     \"\"\"\n\u001b[0;32m    282\u001b[0m     \u001b[0m_warn_for_nonsequence\u001b[0m\u001b[1;33m(\u001b[0m\u001b[0mtup\u001b[0m\u001b[1;33m)\u001b[0m\u001b[1;33m\u001b[0m\u001b[1;33m\u001b[0m\u001b[0m\n\u001b[1;32m--> 283\u001b[1;33m     \u001b[1;32mreturn\u001b[0m \u001b[0m_nx\u001b[0m\u001b[1;33m.\u001b[0m\u001b[0mconcatenate\u001b[0m\u001b[1;33m(\u001b[0m\u001b[1;33m[\u001b[0m\u001b[0matleast_2d\u001b[0m\u001b[1;33m(\u001b[0m\u001b[0m_m\u001b[0m\u001b[1;33m)\u001b[0m \u001b[1;32mfor\u001b[0m \u001b[0m_m\u001b[0m \u001b[1;32min\u001b[0m \u001b[0mtup\u001b[0m\u001b[1;33m]\u001b[0m\u001b[1;33m,\u001b[0m \u001b[1;36m0\u001b[0m\u001b[1;33m)\u001b[0m\u001b[1;33m\u001b[0m\u001b[1;33m\u001b[0m\u001b[0m\n\u001b[0m\u001b[0;32m    284\u001b[0m \u001b[1;33m\u001b[0m\u001b[0m\n\u001b[0;32m    285\u001b[0m \u001b[1;33m\u001b[0m\u001b[0m\n",
      "\u001b[1;31mValueError\u001b[0m: all the input array dimensions except for the concatenation axis must match exactly"
     ]
    }
   ],
   "source": [
    "\n",
    "# save the result into txt file\n",
    "test_result = np.vstack((predicted_values, y_test)) + shifted_value\n",
    "np.savetxt('output_load_forecasting_result.txt', test_result)"
   ]
  },
  {
   "cell_type": "code",
   "execution_count": null,
   "metadata": {},
   "outputs": [],
   "source": []
  }
 ],
 "metadata": {
  "kernelspec": {
   "display_name": "Python 3",
   "language": "python",
   "name": "python3"
  },
  "language_info": {
   "codemirror_mode": {
    "name": "ipython",
    "version": 3
   },
   "file_extension": ".py",
   "mimetype": "text/x-python",
   "name": "python",
   "nbconvert_exporter": "python",
   "pygments_lexer": "ipython3",
   "version": "3.7.1"
  }
 },
 "nbformat": 4,
 "nbformat_minor": 2
}
